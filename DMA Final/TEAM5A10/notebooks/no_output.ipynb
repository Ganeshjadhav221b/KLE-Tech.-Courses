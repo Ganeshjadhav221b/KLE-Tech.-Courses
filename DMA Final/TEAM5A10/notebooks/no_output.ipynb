{
 "cells": [
  {
   "cell_type": "markdown",
   "metadata": {},
   "source": [
    "### TEAM ID                         : 5A10 \n",
    "#### SEMESTER                                : 5\n",
    "#### DIVISION                        : A  \n",
    "#### SCHOOL                         : School of Computer Science Engineering\n",
    "### COURSE                    : Data Mining and Analysis\n",
    "### COURSE CODE         : 18ECSC301\n",
    "#### TOPIC ID                         : 5ADMACP16\n",
    "### PROJECT TITLE             : Cold Start Energy Forecasting\n",
    "#### PROBLEM STATEMENT : To forecast the consumption of energy for each hour, day and week, given the temperature and building information.\n",
    "#### TEAM LEADER                : Hemanth H. K. \n",
    "#### MEMBERS -                       \n",
    "####                                            38     Apoorva Hegde    01FE16BCS040\n",
    "####                                            65     Ganesh Jadhav    01FE16BCS070\n",
    "####                                            66     Girish Illanad        01FE16BCS071\n",
    "####                                            67     Hemanth H. K.      01FE16BCS073\n"
   ]
  },
  {
   "cell_type": "markdown",
   "metadata": {},
   "source": [
    "### Reviewing the Dataset\n",
    "\n",
    "   1. **consumption_train.csv**  – This dataset contains data on cold start measurements of building consumption data (in watt-hours) and temperature. The cold start data is provided at an hourly time step over a period of anywhere from 1 day to 2 weeks. Cold start data only comes in full days This is the primary dataset used to train the model.\n",
    "   \n",
    "    \n",
    "   2. **cold_start_test.csv** – This dataset also contains data on cold start measurements of building consumption data (in watt-hours) and temperature, in the same format as consumption_train.csv. These are the series_ids for which final prediction model need to be tested.\n",
    "   \n",
    "   \n",
    "   3. **meta.csv** – This data is supplementary data that can be used to train the model and make the final predictions. It contains information about the holidays (e.g.sunday is holiday.) in both the testing and training datasets.\n",
    "   \n",
    "   \n",
    "   4. **submission_format.csv** -This is the format in which the prediction consumtion values is to be submitted.\n",
    "   \n",
    "  ### NOTE \n",
    "  - Temperature is in degree celsius.\n",
    "  - Energy consumption in watt-hours.\n"
   ]
  },
  {
   "cell_type": "code",
   "execution_count": null,
   "metadata": {},
   "outputs": [],
   "source": [
    "#importing the needed packages\n",
    "import pandas as pd\n",
    "import numpy as np\n",
    "import matplotlib.pyplot as plt\n",
    "import seaborn as sns\n",
    "%pylab inline \n",
    "from pandas.tools.plotting import autocorrelation_plot\n",
    "import sklearn\n",
    "from sklearn.preprocessing import LabelEncoder\n",
    "from sklearn.preprocessing import OneHotEncoder\n",
    "from sklearn.linear_model import LinearRegression\n",
    "from sklearn import cross_validation\n",
    "from sklearn.linear_model import Ridge\n",
    "from sklearn.linear_model import Lasso\n",
    "from sklearn.linear_model import ElasticNet\n",
    "from sklearn.tree import DecisionTreeRegressor\n",
    "from sklearn.ensemble import RandomForestRegressor\n",
    "import xgboost as xgb\n",
    "from sklearn import metrics\n",
    "from sklearn.metrics import r2_score\n",
    "import statsmodels.formula.api as smf\n",
    "from math import sqrt\n",
    "from sklearn.ensemble import ExtraTreesRegressor\n",
    "from sklearn.ensemble import BaggingRegressor\n",
    "from sklearn.neighbors import KNeighborsRegressor\n",
    "from sklearn.cross_validation import KFold, cross_val_score\n"
   ]
  },
  {
   "cell_type": "markdown",
   "metadata": {},
   "source": [
    "### DATA PREPROCESSING\n",
    "#### [1] DATA CLEANING "
   ]
  },
  {
   "cell_type": "code",
   "execution_count": null,
   "metadata": {},
   "outputs": [],
   "source": [
    "#reading the consumption_train.csv \n",
    "train_data = pd.read_csv('cold_start_train.csv')\n",
    "#Extracting the columns from the training data.\n",
    "train_data = train_data.loc[:,[\"series_id\",\"timestamp\",\"consumption\",\"temperature\"]] \n",
    "train_data.head()"
   ]
  },
  {
   "cell_type": "code",
   "execution_count": null,
   "metadata": {},
   "outputs": [],
   "source": [
    "#reading the  cold_start_test.csv\n",
    "test_data = pd.read_csv('cold_start_test.csv')\n",
    "#Extracting the columns from testing data.\n",
    "test_data = test_data.loc[:,['series_id','timestamp','consumption','temperature']]\n",
    "test_data.head()"
   ]
  },
  {
   "cell_type": "code",
   "execution_count": null,
   "metadata": {},
   "outputs": [],
   "source": [
    "#reading the  meta.csv\n",
    "meta_data = pd.read_csv('meta.csv')\n",
    "meta_data.head()"
   ]
  },
  {
   "cell_type": "markdown",
   "metadata": {},
   "source": [
    "#### [2]DATA INTEGRATION"
   ]
  },
  {
   "cell_type": "code",
   "execution_count": null,
   "metadata": {},
   "outputs": [],
   "source": [
    "#concatenating the training and the testing data\n",
    "train_all = pd.concat((train_data, test_data), axis = 0, ignore_index = True, sort = False)\n",
    "train_all.head()"
   ]
  },
  {
   "cell_type": "code",
   "execution_count": null,
   "metadata": {},
   "outputs": [],
   "source": [
    "#checking the size of all the datasets\n",
    "print(train_data.shape)\n",
    "print(test_data.shape)\n",
    "print(train_all.shape)"
   ]
  },
  {
   "cell_type": "code",
   "execution_count": null,
   "metadata": {},
   "outputs": [],
   "source": [
    "#finding the number of unique series id's in all datasets\n",
    "def findUnique(df):\n",
    "    print(df.nunique())\n",
    "    print(\"---------------------------------------------------\")\n",
    "findUnique(train_data)\n",
    "findUnique(test_data)\n",
    "findUnique(train_all)\n",
    "findUnique(meta_data)"
   ]
  },
  {
   "cell_type": "markdown",
   "metadata": {},
   "source": [
    "#### INFERENCE\n",
    "#### The combination of the  number of series id's in training and testing is equal to that in meta data. "
   ]
  },
  {
   "cell_type": "code",
   "execution_count": null,
   "metadata": {},
   "outputs": [],
   "source": [
    "#finding the misssing values in all datasets\n",
    "def findMissingValues(df):\n",
    "    print(df.isnull().sum()*100/df.shape[0])\n",
    "    print(\"---------------------------------------------------\")\n",
    "\n",
    "findMissingValues(train_data)\n",
    "findMissingValues(test_data)\n",
    "findMissingValues(train_all)\n",
    "findMissingValues(meta_data)\n"
   ]
  },
  {
   "cell_type": "markdown",
   "metadata": {},
   "source": [
    "#### INFERENCE\n",
    "#### The missing temperature values in our entire training data is 44% approx. "
   ]
  },
  {
   "cell_type": "code",
   "execution_count": null,
   "metadata": {},
   "outputs": [],
   "source": [
    "#Converting time datatypes to the standard format\n",
    "print(train_all.dtypes)\n",
    "train_all['timestamp'] = pd.to_datetime(train_all.timestamp)\n",
    "print(train_all.dtypes)"
   ]
  },
  {
   "cell_type": "markdown",
   "metadata": {},
   "source": [
    "#### [3] DATA TRANSFORMATION"
   ]
  },
  {
   "cell_type": "code",
   "execution_count": null,
   "metadata": {},
   "outputs": [],
   "source": [
    "#breaking the timestamp into minutes, hours, weekday, day of the year, day of the month, month, and year\n",
    "def process_time(df):\n",
    "    \n",
    "    # Convert timestamp into a pandas datatime object\n",
    "    df['timestamp'] = pd.to_datetime(df['timestamp'])\n",
    "    df = df.set_index('timestamp')\n",
    "    \n",
    "    # Extract units of time from the timestamp\n",
    "    df['min'] = df.index.minute\n",
    "    df['hour'] = df.index.hour\n",
    "    df['wday'] = df.index.dayofweek\n",
    "    df['mday'] = df.index.day\n",
    "    df['yday'] = df.index.dayofyear\n",
    "    df['month'] = df.index.month\n",
    "    df['year'] = df.index.year\n",
    "    \n",
    "    # Create a time of day to represent hours and minutes\n",
    "    df['time'] = df['hour'] + (df['min'] / 60)\n",
    "    df = df.drop(columns=['hour', 'min'])\n",
    "        \n",
    "    # turn the index into a column\n",
    "    df = df.reset_index(level=0)\n",
    "    \n",
    "    return df\n",
    "  \n",
    "# Feature engineering of the time for train and test\n",
    "train_all = process_time(train_all)\n",
    "train_all.drop(columns = 'timestamp', inplace = True)\n",
    "train_all.head()"
   ]
  },
  {
   "cell_type": "code",
   "execution_count": null,
   "metadata": {},
   "outputs": [],
   "source": [
    "#he time variables are then converted to cyclical features to preserve the proper relationships between times\n",
    "def process_time2(df):\n",
    "    # wday has period of 6\n",
    "    df['wday_sin'] = np.sin(2 * np.pi * df['wday'] / 6)\n",
    "    df['wday_cos'] = np.cos(2 * np.pi * df['wday'] / 6)\n",
    "    \n",
    "    \n",
    "    # yday has period of 365\n",
    "    df['yday_sin'] = np.sin(2 * np.pi * df['yday'] / 365)\n",
    "    df['yday_cos'] = np.cos(2 * np.pi * df['yday'] / 365)\n",
    "    \n",
    "    # month has period of 12\n",
    "    df['month_sin'] = np.sin(2 * np.pi * df['month'] / 12)\n",
    "    df['month_cos'] = np.cos(2 * np.pi * df['month'] / 12)\n",
    "    \n",
    "    # time has period of 24\n",
    "    df['time_sin'] = np.sin(2 * np.pi * df['time'] / 24)\n",
    "    df['time_cos'] = np.cos(2 * np.pi * df['time'] / 24)\n",
    "\n",
    "    return df\n",
    "\n",
    "train = process_time2(train_all)\n",
    "train.head()"
   ]
  },
  {
   "cell_type": "code",
   "execution_count": null,
   "metadata": {},
   "outputs": [],
   "source": [
    "## Create a new dataframe for the series id from meta data\n",
    "id_list = set(meta_data['series_id'])\n",
    "all_meta = pd.DataFrame(columns=['series_id', 'wday', 'off'])\n",
    "all_meta=all_meta.astype(int)\n",
    "len(id_list)"
   ]
  },
  {
   "cell_type": "code",
   "execution_count": null,
   "metadata": {},
   "outputs": [],
   "source": [
    "# Iterate through each series id and find days off\n",
    "for id in id_list:\n",
    "    # Extract the metadata information for the series id\n",
    "    meta_slice = meta_data.ix[meta_data['series_id'] == id]\n",
    "    \n",
    "    # Create a new dataframe for the series id\n",
    "    building_meta = pd.DataFrame(columns=['series_id', 'wday', 'off'],\n",
    "                            index = [0, 1, 2, 3, 4, 5, 6])\n",
    "    \n",
    "    building_meta['wday'] = [0, 1, 2, 3, 4, 5, 6]\n",
    "    building_meta['series_id'] = id\n",
    "    \n",
    "    # Record the days off\n",
    "    building_meta.ix[0, 'off'] = float(meta_slice['monday_is_day_off'])\n",
    "    building_meta.ix[1, 'off'] = float(meta_slice['tuesday_is_day_off'])\n",
    "    building_meta.ix[2, 'off'] = float(meta_slice['wednesday_is_day_off'])\n",
    "    building_meta.ix[3, 'off'] = float(meta_slice['thursday_is_day_off'])\n",
    "    building_meta.ix[4, 'off'] = float(meta_slice['friday_is_day_off'])\n",
    "    building_meta.ix[5, 'off'] = float(meta_slice['saturday_is_day_off'])\n",
    "    building_meta.ix[6, 'off'] = float(meta_slice['sunday_is_day_off'])\n",
    "    \n",
    "    # Append the resulting dataframe to all site dataframe\n",
    "    all_meta = all_meta.append(building_meta) \n",
    "    \n",
    "# merging(left join) back to the orignal meta data\n",
    "train = train_all.merge(all_meta, how = 'left', on = ['series_id','wday'])\n",
    "train.head()"
   ]
  },
  {
   "cell_type": "code",
   "execution_count": null,
   "metadata": {},
   "outputs": [],
   "source": [
    "#preparing to merge the training data and testing with meta\n",
    "left = train\n",
    "right  = meta_data.loc[:,[\"series_id\",\"surface\",\"base_temperature\"]] \n",
    "print(left.head())\n",
    "print(right.head())\n",
    "print(left.shape)\n",
    "print(right.shape)\n"
   ]
  },
  {
   "cell_type": "code",
   "execution_count": null,
   "metadata": {},
   "outputs": [],
   "source": [
    "#checking the  training data after merging with train, test with meta data.\n",
    "merged_data = pd.merge(left,right,on = 'series_id')\n",
    "merged_data.head()"
   ]
  },
  {
   "cell_type": "code",
   "execution_count": null,
   "metadata": {},
   "outputs": [],
   "source": [
    "#Comparing the unique attributes\n",
    "findUnique(merged_data)"
   ]
  },
  {
   "cell_type": "code",
   "execution_count": null,
   "metadata": {},
   "outputs": [],
   "source": [
    "#working with the categorical data\n",
    "print(merged_data.surface.value_counts())\n",
    "print(merged_data.base_temperature.value_counts())"
   ]
  },
  {
   "cell_type": "code",
   "execution_count": 22,
   "metadata": {},
   "outputs": [
    {
     "data": {
      "image/png": "[encoded data removed]",
      "text/plain": [
       "<Figure size 432x288 with 1 Axes>"
      ]
     },
     "metadata": {},
     "output_type": "display_data"
    }
   ],
   "source": [
    "#understanding the relation between base temperature and label\n",
    "g = sns.barplot(x=\"base_temperature\",y=\"consumption\",data=merged_data)\n",
    "g = g.set_ylabel(\"consumption\")"
   ]
  },
  {
   "cell_type": "markdown",
   "metadata": {},
   "source": [
    "#### INFERENCE\n",
    "#### The high/low temperature in the base temperature doesnt imply any relation with target"
   ]
  },
  {
   "cell_type": "code",
   "execution_count": 23,
   "metadata": {},
   "outputs": [
    {
     "data": {
      "image/png": "[encoded data removed]",
      "text/plain": [
       "<Figure size 432x288 with 1 Axes>"
      ]
     },
     "metadata": {},
     "output_type": "display_data"
    }
   ],
   "source": [
    "#understanding the relation between surface and label\n",
    "g= sns.barplot(x=\"surface\",y=\"consumption\",data=merged_data)\n",
    "g = g.set_ylabel(\"consumption\")"
   ]
  },
  {
   "cell_type": "markdown",
   "metadata": {},
   "source": [
    "#### INFERENCE\n",
    "#### The surface (buildings) marked - 'large' consume the most energy "
   ]
  },
  {
   "cell_type": "code",
   "execution_count": 26,
   "metadata": {
    "scrolled": true
   },
   "outputs": [
    {
     "data": {
      "image/png": "[encoded data removed]",
      "text/plain": [
       "<Figure size 432x288 with 1 Axes>"
      ]
     },
     "metadata": {},
     "output_type": "display_data"
    }
   ],
   "source": [
    "#finding the relation between surface and temperature\n",
    "g = sns.barplot(x=\"surface\",y=\"temperature\",data=merged_data)\n",
    "g = g.set_ylabel(\"temperature\")"
   ]
  },
  {
   "cell_type": "markdown",
   "metadata": {},
   "source": [
    "#### INFERENCE\n",
    "#### The smaller the  surface has higher the temperature "
   ]
  },
  {
   "cell_type": "code",
   "execution_count": null,
   "metadata": {},
   "outputs": [],
   "source": [
    "#defining functions to find maximum and minimum for attributes in dataFrame\n",
    "d = merged_data\n",
    "def findMinMax(df,col):\n",
    "    print(\"Extremes for \",col )\n",
    "    print( df.groupby(col).apply(lambda x: x.temperature[x.temperature.idxmax()]))\n",
    "    print(df.groupby(col).apply(lambda x: x.temperature[x.temperature.idxmin()]))\n",
    "def findMinMaxConsumption(df,col):\n",
    "    print(\"Extremes for \",col )\n",
    "    print( df.groupby(col).apply(lambda x: x.consumption[x.consumption.idxmax()]));\n",
    "    print(df.groupby(col).apply(lambda x: x.consumption[x.consumption.idxmin()]));"
   ]
  },
  {
   "cell_type": "code",
   "execution_count": null,
   "metadata": {},
   "outputs": [],
   "source": [
    "#finding maximum and minimum for surface and base temperature in dataFrame\n",
    "a1 = findMinMax(d, \"surface\")\n",
    "a2 = findMinMax(d, \"base_temperature\")\n",
    "a3 = findMinMaxConsumption(d, \"surface\")\n",
    "a4 = findMinMaxConsumption(d, \"base_temperature\")"
   ]
  },
  {
   "cell_type": "code",
   "execution_count": null,
   "metadata": {},
   "outputs": [],
   "source": [
    "#one hot encoding the surface column\n",
    "def convert_to_binary(df, column_to_convert):\n",
    "    categories = list(df[column_to_convert].drop_duplicates())\n",
    "\n",
    "    for category in categories:\n",
    "        cat_name = str(category).replace(\" \", \"_\").replace(\"(\", \"\").replace(\")\", \"\").replace(\"/\", \"_\").replace(\"-\", \"\").lower()\n",
    "        col_name = column_to_convert[:5] + '_' + cat_name[:10]\n",
    "        df[col_name] = 0\n",
    "        df.loc[(df[column_to_convert] == category), col_name] = 1\n",
    "\n",
    "    return df\n",
    "columns_to_convert = ['surface']\n",
    "\n",
    "for column in columns_to_convert:\n",
    "    merged_data = convert_to_binary(df=merged_data, column_to_convert=column)\n",
    "    merged_data.drop(column, axis=1, inplace=True)\n",
    "merged_data.head()"
   ]
  },
  {
   "cell_type": "code",
   "execution_count": null,
   "metadata": {},
   "outputs": [],
   "source": [
    "#mapping the values in base temperature to 0 and 1(high) and creating a new attribute base num\n",
    "merged_data['base_num'] = merged_data.base_temperature.map({'high':1, 'low':0});\n",
    "#dropping the base temperature since its corresponding values are already in base-num\n",
    "merged_data.drop(columns = 'base_temperature', inplace = True)\n",
    "print(merged_data.shape)\n",
    "merged_data.head()\n"
   ]
  },
  {
   "cell_type": "markdown",
   "metadata": {},
   "source": [
    "#### INFERENCE\n",
    "#### The combination of all data sets leaves us with a total of 26 attributes.. "
   ]
  },
  {
   "cell_type": "markdown",
   "metadata": {},
   "source": [
    "#### [4]OUTLIER CHECK"
   ]
  },
  {
   "cell_type": "code",
   "execution_count": null,
   "metadata": {},
   "outputs": [],
   "source": [
    "#Finding the outliers in training data.\n",
    "#For temperature:\n",
    "print('Maximum temperature in training data:',merged_data.temperature.max())\n",
    "print('Minimum temperature in training data\":',merged_data.temperature.min())\n",
    "print('\\n')\n",
    "#For consumption:\n",
    "print('Maximum consumption in training data:',merged_data.consumption.max())\n",
    "print('Maximum consumption in training data:',merged_data.consumption.min())\n",
    "print('\\n')\n",
    "x = 0.80*merged_data.consumption.max()\n",
    "print(\"Max: \", x)\n",
    "print('Number of tuples with greater than 80% of max consumption: ',merged_data[merged_data.consumption>x][\"consumption\"].count()) #Considering values 80% as threshold.\n",
    "df = merged_data\n",
    "train_high = df[df.consumption>x][\"consumption\"]\n"
   ]
  },
  {
   "cell_type": "markdown",
   "metadata": {},
   "source": [
    "### Inference: \n",
    "Given the temperature's range, its neiter too hot nor too cold to be termed as outliers. Hence we find no outliers in temperature.<br> \n",
    "Given the consumption's range, most of the id's(buildings) i.e atleast 100 have consumption more than normal, but they might be industries or factories which might consume more power . Hence we find no outliers in consumption.\n"
   ]
  },
  {
   "cell_type": "markdown",
   "metadata": {},
   "source": [
    "#### [5]HANDLING MISSING DATA"
   ]
  },
  {
   "cell_type": "code",
   "execution_count": null,
   "metadata": {},
   "outputs": [],
   "source": [
    "#finding the missing values\n",
    "merged_data.isnull().sum()*100/merged_data.shape[0]"
   ]
  },
  {
   "cell_type": "code",
   "execution_count": null,
   "metadata": {},
   "outputs": [],
   "source": [
    "#savaing the dataframe before experimenting on it.\n",
    "train = merged_data"
   ]
  },
  {
   "cell_type": "code",
   "execution_count": null,
   "metadata": {},
   "outputs": [],
   "source": [
    "#grouping the series id, month and year and fill missing temperature\n",
    "train[\"temperature\"] = train.groupby([\"series_id\",\"month\",\"year\"]).temperature.transform(lambda x: x.fillna(x.mean()))\n",
    "train.isnull().sum()*100/train.shape[0]"
   ]
  },
  {
   "cell_type": "code",
   "execution_count": null,
   "metadata": {},
   "outputs": [],
   "source": [
    "#grouping the series id and year and fill missing temperature with mean\n",
    "train[\"temperature\"] = train.groupby([\"series_id\",\"year\"]).temperature.transform(lambda x: x.fillna(x.mean()))\n",
    "train.isnull().sum()*100/train.shape[0]"
   ]
  },
  {
   "cell_type": "code",
   "execution_count": null,
   "metadata": {},
   "outputs": [],
   "source": [
    "#grouping the series id and fill missing temperature with mean\n",
    "train[\"temperature\"] = train.groupby([\"series_id\"]).temperature.transform(lambda x: x.fillna(x.mean()))\n",
    "train.isnull().sum()*100/train.shape[0]"
   ]
  },
  {
   "cell_type": "markdown",
   "metadata": {},
   "source": [
    "### Inference: \n",
    "#### The total missing values after filling via groupby is still ~34%. We shall make use of machine learning to fill in the rest."
   ]
  },
  {
   "cell_type": "code",
   "execution_count": null,
   "metadata": {},
   "outputs": [],
   "source": [
    "#Seperating the the tuples with missing temperature \n",
    "data_null=train[pd.isnull(train['temperature'])]\n",
    "data_null.head()"
   ]
  },
  {
   "cell_type": "code",
   "execution_count": null,
   "metadata": {},
   "outputs": [],
   "source": [
    "#seperated dataframe has no values for temperature column\n",
    "data_null.isnull().sum()*100/data_null.shape[0]"
   ]
  },
  {
   "cell_type": "code",
   "execution_count": null,
   "metadata": {},
   "outputs": [],
   "source": [
    "#dropping the rows in the training data that were missing  \n",
    "train.dropna(inplace=True) "
   ]
  },
  {
   "cell_type": "code",
   "execution_count": null,
   "metadata": {},
   "outputs": [],
   "source": [
    "#extracting required features that'll be needed to fill missing temperature(acts as a label here now)\n",
    "x= train.loc[:,['series_id','base_num','wday_sin','wday_cos','yday_sin','wday_cos','month_sin','month_cos','time_sin','time_cos']]\n",
    "print(x.head())\n",
    "x1= data_null.loc[:,['series_id','base_num','wday_sin','wday_cos','yday_sin','wday_cos','month_sin','month_cos','time_sin','time_cos']]\n",
    "print(x1.head())"
   ]
  },
  {
   "cell_type": "code",
   "execution_count": null,
   "metadata": {},
   "outputs": [],
   "source": [
    "#taking the label.\n",
    "y=train[['temperature']]\n",
    "print(y.head())\n",
    "y1=data_null[['temperature']]\n",
    "print(y1.head())\n"
   ]
  },
  {
   "cell_type": "markdown",
   "metadata": {},
   "source": [
    "### Analysis: \n",
    "Given the data is non linear, linear models will not fit properly.Hence using ensemble methods will be appropriate.\n",
    "<br>Of all ensemble methods randomforestregressor gave best results. We proceed with the same model to fill temperature"
   ]
  },
  {
   "cell_type": "code",
   "execution_count": null,
   "metadata": {},
   "outputs": [],
   "source": [
    "#Training model to fill the missing temperature values considering other features.\n",
    "lr = RandomForestRegressor(max_depth=30 , random_state=0,n_estimators=100)   \n",
    "lr.fit(x, y)\n",
    "\n",
    "y0_predict=lr.predict(x1)\n",
    "print(y0_predict)"
   ]
  },
  {
   "cell_type": "code",
   "execution_count": null,
   "metadata": {},
   "outputs": [],
   "source": [
    "#dropping the temperature column so to add the last predicted one.\n",
    "data_null.drop('temperature',axis=1, inplace = True)\n",
    "data_null.head()\n",
    "data_null.shape"
   ]
  },
  {
   "cell_type": "code",
   "execution_count": null,
   "metadata": {},
   "outputs": [],
   "source": [
    "#Adding predicted temperature to the dataframe\n",
    "data_null['temperature']=y0_predict\n",
    "data_null.head()"
   ]
  },
  {
   "cell_type": "code",
   "execution_count": null,
   "metadata": {},
   "outputs": [],
   "source": [
    "frames = [train,data_null]"
   ]
  },
  {
   "cell_type": "code",
   "execution_count": null,
   "metadata": {},
   "outputs": [],
   "source": [
    "#merging back the filled temperature back to the original training dataframe\n",
    "data = pd.concat(frames)"
   ]
  },
  {
   "cell_type": "code",
   "execution_count": null,
   "metadata": {},
   "outputs": [],
   "source": [
    "#finding the size of dataframe after feature engineering\n",
    "data.shape"
   ]
  },
  {
   "cell_type": "code",
   "execution_count": null,
   "metadata": {},
   "outputs": [],
   "source": [
    "#finding the correlation between the attributes\n",
    "merged_data.corr()"
   ]
  },
  {
   "cell_type": "code",
   "execution_count": null,
   "metadata": {},
   "outputs": [],
   "source": [
    "#dropping the attributes that are already converted into cyclic.\n",
    "df =data.drop(columns=['month','mday','wday','yday','time'])\n",
    "df.columns"
   ]
  },
  {
   "cell_type": "code",
   "execution_count": null,
   "metadata": {},
   "outputs": [],
   "source": [
    "# Correlation matrix between numerical values  \n",
    "plt.figure(figsize = (25,15))\n",
    "g = sns.heatmap(df.corr(),annot=True, fmt = \".2f\", cmap = \"coolwarm\")"
   ]
  },
  {
   "cell_type": "code",
   "execution_count": null,
   "metadata": {},
   "outputs": [],
   "source": [
    "#finding the correlation with target\n",
    "df.corr()['consumption']"
   ]
  },
  {
   "cell_type": "code",
   "execution_count": null,
   "metadata": {},
   "outputs": [],
   "source": [
    "#performing the chisquare tests \n",
    "lm1 = smf.ols(formula='consumption ~ base_num+month_cos+month_sin+off+series_id+surfa_large+surfa_medium+surfa_small+surfa_xlarge+surfa_xsmall+surfa_xxlarge+surfa_xxsmall+temperature+time_cos+time_sin+wday_cos+wday_sin+yday_cos+yday_sin+year',data=df).fit()\n",
    "\n",
    "# print the coefficients\n",
    "lm1.params\n",
    "lm1.summary()"
   ]
  },
  {
   "cell_type": "markdown",
   "metadata": {},
   "source": [
    "### Inference: \n",
    "The correlation heatmap and the chi square tests indicate that yday_cos-month_cos, yday_sin-month_sin and temperature-month_cos are highly correlated. Comparing them with target we drop month_cos, yday_sin will be dropped along with the target(for training)."
   ]
  },
  {
   "cell_type": "code",
   "execution_count": null,
   "metadata": {},
   "outputs": [],
   "source": [
    "#prepring to fit the model\n",
    "X= data.drop(columns=['consumption','month','wday','mday','yday','time','month_cos', 'yday_sin'])\n",
    "X.reset_index()\n",
    "print(X.head())\n",
    "y = data.consumption\n",
    "print(y.head())\n"
   ]
  },
  {
   "cell_type": "markdown",
   "metadata": {},
   "source": [
    "### MODEL BUILDING"
   ]
  },
  {
   "cell_type": "code",
   "execution_count": null,
   "metadata": {},
   "outputs": [],
   "source": [
    "## Spliting of training dataset into 70% training data and 30% testing data randomly\n",
    "features_train, features_test, labels_train, labels_test = cross_validation.train_test_split(X, y, test_size=0.3, random_state=1)\n"
   ]
  },
  {
   "cell_type": "code",
   "execution_count": null,
   "metadata": {},
   "outputs": [],
   "source": [
    "#preparing to fit the model.\n",
    "x = features_train\n",
    "y = labels_train\n",
    "x1 = features_test\n",
    "y1 = labels_test"
   ]
  },
  {
   "cell_type": "code",
   "execution_count": null,
   "metadata": {},
   "outputs": [],
   "source": [
    "lr = LinearRegression()\n",
    "lr.fit(x, y)\n",
    "y0_predict=lr.predict(x1)\n",
    "print(r2_score(y1, y0_predict) )#linear regression"
   ]
  },
  {
   "cell_type": "code",
   "execution_count": null,
   "metadata": {},
   "outputs": [],
   "source": [
    "rr = Ridge(alpha=0.001)\n",
    "rr.fit(x, y)\n",
    "y1_predict=rr.predict(x1)\n",
    "print(r2_score(y1, y1_predict) ) #ridge with low alpha"
   ]
  },
  {
   "cell_type": "code",
   "execution_count": null,
   "metadata": {},
   "outputs": [],
   "source": [
    "lasso = Lasso()\n",
    "lasso.fit(x,y)\n",
    "y3_predict=lasso.predict(x1)\n",
    "print(r2_score(y1, y3_predict) )"
   ]
  },
  {
   "cell_type": "markdown",
   "metadata": {},
   "source": [
    "#### ANALYSIS:\n",
    "The score is low because of the non linear behavior of the data. "
   ]
  },
  {
   "cell_type": "code",
   "execution_count": null,
   "metadata": {},
   "outputs": [],
   "source": [
    "#fitting model on baggingregressor\n",
    "rf = sklearn.ensemble.BaggingRegressor(n_estimators=500, n_jobs=1, verbose=10)\n",
    "rf.fit(x, y)\n",
    "print(r2_score(y1, rf.predict(x1)))\n"
   ]
  },
  {
   "cell_type": "code",
   "execution_count": null,
   "metadata": {},
   "outputs": [],
   "source": [
    "#fitting the model on extratreesregressor with max depth =30\n",
    "rf = sklearn.ensemble.ExtraTreesRegressor(n_estimators=500, max_depth=30)\n",
    "rf.fit(x, y)\n",
    "print(r2_score(y1, rf.predict(x1)))\n"
   ]
  },
  {
   "cell_type": "code",
   "execution_count": null,
   "metadata": {},
   "outputs": [],
   "source": [
    "#fitting model on baggingregressor\n",
    "rf = sklearn.neighbors.KNeighborsRegressor(n_neighbors=5)\n",
    "rf.fit(x, y)\n",
    "print(r2_score(y1, rf.predict(x1)))"
   ]
  },
  {
   "cell_type": "code",
   "execution_count": null,
   "metadata": {},
   "outputs": [],
   "source": [
    "#fitting with  RandomForestRegressor  for testing data\n",
    "regr = RandomForestRegressor(max_depth=30, random_state=0,n_estimators=100)\n",
    "regr.fit(x, y)\n",
    "y12_predict = regr.predict(x1)\n",
    "print(r2_score(y1, y12_predict) ) #Random forest regressor"
   ]
  },
  {
   "cell_type": "code",
   "execution_count": null,
   "metadata": {},
   "outputs": [],
   "source": [
    "#fitting with  RandomForestRegressor for training data\n",
    "regr = RandomForestRegressor(max_depth=30, random_state=0,n_estimators=100)\n",
    "regr.fit(x, y)\n",
    "y13_predict = regr.predict(x)\n",
    "print(r2_score(y, y13_predict) ) #Random forest regressor"
   ]
  },
  {
   "cell_type": "markdown",
   "metadata": {},
   "source": [
    "### INFERENCE\n",
    "#### Ensemble methods did actually work well compared to the linear models. We use randomforest and extratreesregressor to further evaluate it."
   ]
  },
  {
   "cell_type": "markdown",
   "metadata": {},
   "source": [
    "### POST PROCESSING"
   ]
  },
  {
   "cell_type": "code",
   "execution_count": null,
   "metadata": {},
   "outputs": [],
   "source": [
    "#evaluating the model\n",
    "train_accuracy_list = []\n",
    "test_accuracy_list = []\n",
    "\n",
    "for i in range(5,30):\n",
    "    regr = RandomForestRegressor(max_depth=i, random_state=0,n_estimators=100)\n",
    "    regr.fit(x, y)\n",
    "    y13_predict = regr.predict(x)\n",
    "    print(\"Training error for depth = \", i , \" : \" ,r2_score(y, y13_predict) ) #Random forest regressor\n",
    "    train_accuracy_list.append(r2_score(y, y13_predict))\n",
    "    y11_predict = regr.predict(x1)\n",
    "    print(\"Testing error for depth = \", i , \" : \",r2_score(y1, y11_predict) ) #Random forest regressor\n",
    "    test_accuracy_list.append(r2_score(y1, y11_predict))"
   ]
  },
  {
   "cell_type": "code",
   "execution_count": 66,
   "metadata": {},
   "outputs": [
    {
     "name": "stderr",
     "output_type": "stream",
     "text": [
      "C:\\Users\\Ganesh\\Anaconda4\\lib\\site-packages\\matplotlib\\legend.py:641: UserWarning: Unrecognized location \"upperleft\". Falling back on \"best\"; valid locations are\n",
      "\tbest\n",
      "\tupper right\n",
      "\tupper left\n",
      "\tlower left\n",
      "\tlower right\n",
      "\tright\n",
      "\tcenter left\n",
      "\tcenter right\n",
      "\tlower center\n",
      "\tupper center\n",
      "\tcenter\n",
      "\n",
      "  % (loc, '\\n\\t'.join(self.codes)))\n"
     ]
    },
    {
     "data": {
      "image/png": "[encoded data removed]",
      "text/plain": [
       "<Figure size 432x288 with 1 Axes>"
      ]
     },
     "metadata": {},
     "output_type": "display_data"
    }
   ],
   "source": [
    "#creating a dummy list\n",
    "list1= list(range(5, 30))\n",
    "#plotting the learning curve on basis of max depth\n",
    "plt.plot(list1 , train_accuracy_list , label = \"Train\")\n",
    "plt.plot(list1 , test_accuracy_list, label = \"Test\")\n",
    "plt.legend(loc = 'upperleft')\n",
    "plt.xlabel(\"max_depth for RFRegressor\")\n",
    "plt.ylabel(\"Accuracy rate\")\n",
    "plt.show()\n",
    "#plt.plot(list1 , train_accuracy_list)"
   ]
  },
  {
   "cell_type": "markdown",
   "metadata": {},
   "source": [
    "### INFERENCE\n",
    "#### The plot shows that the score of the model increases with increasing depth. At depth = 30, we get max score for both training and testing data.\n",
    "#### It fits perfectly for both training and testing data(low bias and low variance)."
   ]
  },
  {
   "cell_type": "code",
   "execution_count": null,
   "metadata": {},
   "outputs": [],
   "source": [
    "#evaluating the model on varying basis of max depth of RandomForestRegressor\n",
    "train_accuracy_list2 = []\n",
    "test_accuracy_list2 = []\n",
    "\n",
    "for i in range(5,30):\n",
    "    regr = RandomForestRegressor(max_depth=i, random_state=0,n_estimators=100)\n",
    "    regr.fit(x, y)\n",
    "    y13_predict = regr.predict(x)\n",
    "    print(\"Training error for depth = \", i , \" : \" ,sqrt(metrics.mean_squared_error(y, y13_predict)) ) #Random forest regressor\n",
    "    train_accuracy_list2.append( sqrt(metrics.mean_squared_error(y, y13_predict)))\n",
    "    y11_predict = regr.predict(x1)\n",
    "    print(\"Testing error for depth = \", i , \" : \",sqrt(metrics.mean_squared_error(y1, y11_predict)) ) #Random forest regressor\n",
    "    test_accuracy_list2.append( sqrt(metrics.mean_squared_error(y1, y11_predict)))\n",
    "\n",
    "print(len(train_accuracy_list2))\n",
    "print(len(test_accuracy_list2))\n",
    "\n",
    "#plt.plot()"
   ]
  },
  {
   "cell_type": "code",
   "execution_count": 68,
   "metadata": {},
   "outputs": [
    {
     "name": "stderr",
     "output_type": "stream",
     "text": [
      "C:\\Users\\Ganesh\\Anaconda4\\lib\\site-packages\\matplotlib\\legend.py:641: UserWarning: Unrecognized location \"upperleft\". Falling back on \"best\"; valid locations are\n",
      "\tbest\n",
      "\tupper right\n",
      "\tupper left\n",
      "\tlower left\n",
      "\tlower right\n",
      "\tright\n",
      "\tcenter left\n",
      "\tcenter right\n",
      "\tlower center\n",
      "\tupper center\n",
      "\tcenter\n",
      "\n",
      "  % (loc, '\\n\\t'.join(self.codes)))\n"
     ]
    },
    {
     "data": {
      "image/png": "[encoded data removed]",
      "text/plain": [
       "<Figure size 432x288 with 1 Axes>"
      ]
     },
     "metadata": {},
     "output_type": "display_data"
    }
   ],
   "source": [
    "#plotting the bias variance curve on basis of max depth for randomforestregressor\n",
    "plt.plot(list1 , train_accuracy_list2 , label = \"Train\")\n",
    "plt.plot(list1 , test_accuracy_list2, label = \"Test\")\n",
    "plt.legend(loc = 'upperleft')\n",
    "plt.xlabel(\"max_depth for RFRegressor\")\n",
    "plt.ylabel(\"Error rate\")\n",
    "plt.show()"
   ]
  },
  {
   "cell_type": "markdown",
   "metadata": {},
   "source": [
    "### INFERENCE\n",
    "#### The plot shows that the error of the model decreases with increasing depth. At depth = 30, we get min error for both training and testing data.\n",
    "#### It fits perfectly for both training and testing data(low bias and low variance)."
   ]
  },
  {
   "cell_type": "code",
   "execution_count": null,
   "metadata": {},
   "outputs": [],
   "source": [
    "#evalutaing model on basis of varying depth of ExtraTreesRegressor\n",
    "train_accuracy_list2 = []\n",
    "test_accuracy_list2 = []\n",
    "\n",
    "for i in range(5,30):\n",
    "    regr = sklearn.ensemble.ExtraTreesRegressor(n_estimators=500, max_depth=i)\n",
    "    regr.fit(x, y)\n",
    "    y13_predict = regr.predict(x)\n",
    "    print(\"Training error for depth = \", i , \" : \" ,sqrt(metrics.mean_squared_error(y, y13_predict))) #Random forest regressor\n",
    "    train_accuracy_list2.append( sqrt(metrics.mean_squared_error(y, y13_predict)))\n",
    "    y11_predict = regr.predict(x1)\n",
    "    print(\"Testing error for depth = \", i , \" : \",sqrt(metrics.mean_squared_error(y1, y11_predict))) #Random forest regressor\n",
    "    test_accuracy_list2.append( sqrt(metrics.mean_squared_error(y1, y11_predict)))\n",
    "\n",
    "print(len(train_accuracy_list2))\n",
    "print(len(test_accuracy_list2))\n",
    "\n",
    "#plt.plot()"
   ]
  },
  {
   "cell_type": "code",
   "execution_count": 72,
   "metadata": {},
   "outputs": [
    {
     "name": "stderr",
     "output_type": "stream",
     "text": [
      "C:\\Users\\Ganesh\\Anaconda4\\lib\\site-packages\\matplotlib\\legend.py:641: UserWarning: Unrecognized location \"upperleft\". Falling back on \"best\"; valid locations are\n",
      "\tbest\n",
      "\tupper right\n",
      "\tupper left\n",
      "\tlower left\n",
      "\tlower right\n",
      "\tright\n",
      "\tcenter left\n",
      "\tcenter right\n",
      "\tlower center\n",
      "\tupper center\n",
      "\tcenter\n",
      "\n",
      "  % (loc, '\\n\\t'.join(self.codes)))\n"
     ]
    },
    {
     "data": {
      "image/png": "[encoded data removed]",
      "text/plain": [
       "<Figure size 432x288 with 1 Axes>"
      ]
     },
     "metadata": {},
     "output_type": "display_data"
    }
   ],
   "source": [
    "#plotting the bias variance curve on basis of max depth for extratreesregressor\n",
    "plt.plot(list1 , train_accuracy_list2 , label = \"Train\")\n",
    "plt.plot(list1 , test_accuracy_list2, label = \"Test\")\n",
    "plt.legend(loc = 'upperleft')\n",
    "plt.xlabel(\"max_depth for ExtraForestRegressor\")\n",
    "plt.ylabel(\"Error rate\")\n",
    "plt.show()"
   ]
  },
  {
   "cell_type": "markdown",
   "metadata": {},
   "source": [
    "### INFERENCE\n",
    "#### The plot shows that the error of the model decresases with increasing depth. At depth = 30, we get min error for both training and testing data.\n",
    "#### It fits perfectly for both training and testing data(low bias and low variance)."
   ]
  },
  {
   "cell_type": "code",
   "execution_count": null,
   "metadata": {},
   "outputs": [],
   "source": [
    "#performing kfold cross validation for randomforestregressor on max depth =10\n",
    "k_fold = KFold(len(y), n_folds=10, shuffle=True, random_state=0)\n",
    "clf = RandomForestRegressor(max_depth=10, random_state=0,n_estimators=100)\n",
    "print (cross_val_score(clf, x, y, cv=k_fold, n_jobs=1))"
   ]
  },
  {
   "cell_type": "code",
   "execution_count": null,
   "metadata": {},
   "outputs": [],
   "source": [
    "#performing kfold cross validation for randomforestregressor max depth =30\n",
    "k_fold = KFold(len(y), n_folds=10, shuffle=True, random_state=0)\n",
    "clf = RandomForestRegressor(max_depth=30, random_state=0,n_estimators=100)\n",
    "print (cross_val_score(clf, x, y, cv=k_fold, n_jobs=1))"
   ]
  },
  {
   "cell_type": "code",
   "execution_count": null,
   "metadata": {},
   "outputs": [],
   "source": [
    "#performing kfold cross validation ExtraTreesRegressor on max depth =30\n",
    "k_fold = KFold(len(y), n_folds=10, shuffle=True, random_state=0)\n",
    "clf = sklearn.ensemble.ExtraTreesRegressor(n_estimators=500, max_depth=30)\n",
    "print (cross_val_score(clf, x, y, cv=k_fold, n_jobs=1))"
   ]
  },
  {
   "cell_type": "markdown",
   "metadata": {},
   "source": [
    "### INFERENCE\n",
    "#### The cross validation results give postive and expected results."
   ]
  },
  {
   "cell_type": "code",
   "execution_count": null,
   "metadata": {},
   "outputs": [],
   "source": [
    "#Creating dummy lists \n",
    "train_accuracy_list3 = []\n",
    "test_accuracy_list3 = []\n",
    "inc3 = []\n",
    "#defining a funtion to plot bias variance curve.\n",
    "def BVCurve():\n",
    "    minimum = 10000\n",
    "    inc = int(x.shape[0]/5)\n",
    "    maximum = x.shape[0]\n",
    "    regr = RandomForestRegressor(max_depth=30, random_state=0,n_estimators=100)\n",
    "    for i in range(minimum, maximum, inc):\n",
    "        regr.fit(x[0:i], y[0:i])\n",
    "        y13_predict = regr.predict(x[0:i])\n",
    "        print(len(x[0:i]), len(y[0:i]), len(y13_predict))\n",
    "        print(\"Training error for data of size = \", i , \" : \" ,sqrt(metrics.mean_squared_error(y[0:i], y13_predict)) ) #Random forest regressor\n",
    "        train_accuracy_list2.append( sqrt(metrics.mean_squared_error(y[0:i], y13_predict)))\n",
    "        y11_predict = regr.predict(x1[0:i])\n",
    "        print(\"Testing error for data of size = \", i , \" : \",sqrt(metrics.mean_squared_error(y1[0:i], y11_predict)) ) #Random forest regressor\n",
    "        test_accuracy_list2.append( sqrt(metrics.mean_squared_error(y1[0:i], y11_predict)))\n",
    "        inc3.append(i)\n",
    "\n",
    "\n",
    "BVCurve()\n",
    "print(len(train_accuracy_list3))\n",
    "print(len(test_accuracy_list3))\n",
    "print(len(inc3))"
   ]
  },
  {
   "cell_type": "code",
   "execution_count": 82,
   "metadata": {},
   "outputs": [
    {
     "name": "stderr",
     "output_type": "stream",
     "text": [
      "C:\\Users\\Ganesh\\Anaconda4\\lib\\site-packages\\matplotlib\\legend.py:641: UserWarning: Unrecognized location \"upperleft\". Falling back on \"best\"; valid locations are\n",
      "\tbest\n",
      "\tupper right\n",
      "\tupper left\n",
      "\tlower left\n",
      "\tlower right\n",
      "\tright\n",
      "\tcenter left\n",
      "\tcenter right\n",
      "\tlower center\n",
      "\tupper center\n",
      "\tcenter\n",
      "\n",
      "  % (loc, '\\n\\t'.join(self.codes)))\n"
     ]
    },
    {
     "data": {
      "image/png": "[encoded data removed]",
      "text/plain": [
       "<Figure size 432x288 with 1 Axes>"
      ]
     },
     "metadata": {},
     "output_type": "display_data"
    }
   ],
   "source": [
    "#plotting bias variance curve for RandomForestRegressor on varying samples of data\n",
    "inr=list(range(30))\n",
    "plt.plot(inr , train_accuracy_list2 , label = \"Train\")\n",
    "plt.plot(inr , test_accuracy_list2, label = \"Test\")\n",
    "plt.legend(loc = 'upperleft')\n",
    "plt.xlabel(\"Samples of data \")\n",
    "plt.ylabel(\"Error rate\")\n",
    "plt.show()"
   ]
  },
  {
   "cell_type": "markdown",
   "metadata": {},
   "source": [
    "### CONCLUSIONS:\n",
    "#### The meta data had important attributes that played important role.\n",
    "#### The only attribute with missing values was the  temperature; it was first filled via groupby and later with machine learning.\n",
    "####  The ensembe methods fit best than the linear models because of the non linear property of data.\n",
    "#### The randomforestregressor and extratreesregressor gave score of 98.27 and 98.9 respectively and were better among all other ensemble techniques\n",
    "#### The learning curves fit(neither underfit not overfit) well for both training and testing for both the models mentioned above.\n",
    "#### The extratreesregressor would be used for prediction because of the accuracy and the fit over the validation curves."
   ]
  },
  {
   "cell_type": "markdown",
   "metadata": {},
   "source": [
    "# Method 2: LSTM"
   ]
  },
  {
   "cell_type": "code",
   "execution_count": null,
   "metadata": {},
   "outputs": [],
   "source": [
    "import numpy as np\n",
    "import pandas as pd\n",
    "from pathlib import Path \n",
    "from numpy.random import seed\n",
    "from tensorflow import set_random_seed\n",
    "RANDOM_SEED = 2018\n",
    "seed(RANDOM_SEED)\n",
    "set_random_seed(RANDOM_SEED)"
   ]
  },
  {
   "cell_type": "code",
   "execution_count": null,
   "metadata": {},
   "outputs": [],
   "source": [
    "import sys\n",
    "sys.path.append(\"numpy_path\")"
   ]
  },
  {
   "cell_type": "markdown",
   "metadata": {},
   "source": [
    "## DATA PREPROCESSING (Date time parsing and normalization)"
   ]
  },
  {
   "cell_type": "markdown",
   "metadata": {},
   "source": [
    "#### [1]Date Time Parsing"
   ]
  },
  {
   "cell_type": "code",
   "execution_count": null,
   "metadata": {},
   "outputs": [],
   "source": [
    "train_data = pd.read_csv('consumption_train.csv',index_col=0, parse_dates=['timestamp'])\n",
    "test_data = pd.read_csv('cold_start_test.csv',index_col=0, parse_dates=['timestamp'])\n",
    "sub_data = pd.read_csv('submission_format.csv',index_col='pred_id',parse_dates=['timestamp'])\n",
    "\n",
    "train_data = train_data.loc[:,[\"series_id\",\"timestamp\",\"consumption\",\"temperature\"]] \n",
    "test_data = test_data.loc[:,['series_id','timestamp','consumption','temperature']]\n",
    "\n",
    "sub_data = sub_data.loc[:,['series_id','timestamp','temperature','consumption','prediction_window']]"
   ]
  },
  {
   "cell_type": "markdown",
   "metadata": {},
   "source": [
    "#### [2]Creating Lagged Features "
   ]
  },
  {
   "cell_type": "code",
   "execution_count": null,
   "metadata": {},
   "outputs": [],
   "source": [
    "def create_lagged_features(df, lag=1):\n",
    "    if not type(df) == pd.DataFrame:\n",
    "        df = pd.DataFrame(df, columns=['consumption'])\n",
    "    \n",
    "    def _rename_lag(ser, j):\n",
    "        ser.name = ser.name + f'_{j}'\n",
    "        return ser\n",
    "        \n",
    "    # add a column lagged by `i` steps\n",
    "    for i in range(1, lag + 1):\n",
    "        df = df.join(df.consumption.shift(i).pipe(_rename_lag, i))\n",
    "\n",
    "    df.dropna(inplace=True)\n",
    "    return df\n",
    "\n",
    "# example series\n",
    "test_series = train_data[train_data.series_id == 100283]\n",
    "create_lagged_features(test_series.consumption, lag=3).head()"
   ]
  },
  {
   "cell_type": "markdown",
   "metadata": {},
   "source": [
    "#### [3]Normalization"
   ]
  },
  {
   "cell_type": "code",
   "execution_count": null,
   "metadata": {},
   "outputs": [],
   "source": [
    "from sklearn.preprocessing import MinMaxScaler\n",
    "\n",
    "def prepare_training_data(consumption_series, lag):\n",
    "    \"\"\" Converts a series of consumption data into a\n",
    "        lagged, scaled sample.\n",
    "    \"\"\"\n",
    "    # scale training data\n",
    "    scaler = MinMaxScaler(feature_range=(-1, 1))\n",
    "    consumption_vals = scaler.fit_transform(consumption_series.values.reshape(-1, 1))\n",
    "    \n",
    "    # convert consumption series to lagged features\n",
    "    consumption_lagged = create_lagged_features(consumption_vals, lag=lag)\n",
    "\n",
    "    # X, y format taking the first column (original time series) to be the y\n",
    "    X = consumption_lagged.drop('consumption', axis=1).values\n",
    "    y = consumption_lagged.consumption.values\n",
    "    \n",
    "    # keras expects 3 dimensional X\n",
    "    X = X.reshape(X.shape[0], 1, X.shape[1])\n",
    "    \n",
    "    return X, y, scaler\n",
    "\n",
    "_X, _y, scaler = prepare_training_data(test_series.consumption, 5)\n",
    "print(_X.shape)\n",
    "print(_y.shape)\n",
    "print(scaler)\n"
   ]
  },
  {
   "cell_type": "code",
   "execution_count": null,
   "metadata": {},
   "outputs": [],
   "source": [
    "# modeling\n",
    "import keras\n",
    "from keras.models import Sequential\n",
    "from keras.layers import LSTM, Dense\n",
    "\n",
    "# progress bar\n",
    "from tqdm import tqdm"
   ]
  },
  {
   "cell_type": "markdown",
   "metadata": {},
   "source": [
    "## Post Processing"
   ]
  },
  {
   "cell_type": "markdown",
   "metadata": {},
   "source": [
    "### Long short-term memory (LSTM)"
   ]
  },
  {
   "cell_type": "markdown",
   "metadata": {},
   "source": [
    "##### LSTM units are units of a recurrent neural network (RNN)  well-suited to classifying, processing and making predictions based on time series data"
   ]
  },
  {
   "cell_type": "code",
   "execution_count": null,
   "metadata": {},
   "outputs": [],
   "source": [
    "# lag of 24 to simulate smallest cold start window. Our series\n",
    "# will be converted to a num_timesteps x lag size matrix\n",
    "lag =  24\n",
    "\n",
    "# model parameters\n",
    "num_neurons = 24\n",
    "batch_size = 1  # this for`ces the lstm to step through each time-step one at a time\n",
    "batch_input_shape=(batch_size, 1, lag)\n",
    "\n",
    "# instantiate a sequential model\n",
    "model = Sequential()\n",
    "\n",
    "# add LSTM layer - stateful MUST be true here in \n",
    "# order to learn the patterns within a series\n",
    "model.add(LSTM(units=num_neurons, \n",
    "              batch_input_shape=batch_input_shape, \n",
    "              stateful=True))\n",
    "\n",
    "# followed by a dense layer with a single output for regression\n",
    "model.add(Dense(1))\n",
    "\n",
    "# compile\n",
    "model.compile(loss='mean_absolute_error', optimizer='adam')"
   ]
  },
  {
   "cell_type": "code",
   "execution_count": null,
   "metadata": {},
   "outputs": [],
   "source": [
    "%%time\n",
    "num_training_series = train_data.series_id.nunique()\n",
    "num_passes_through_data = 3\n",
    "\n",
    "for i in tqdm(range(num_passes_through_data), \n",
    "              total=num_passes_through_data, \n",
    "              desc='Learning Consumption Trends - Epoch'):\n",
    "    \n",
    "    # reset the LSTM state for training on each series\n",
    "    for ser_id, ser_data in train_data.groupby('series_id'):\n",
    "\n",
    "        # prepare the data\n",
    "        X, y, scaler = prepare_training_data(ser_data.consumption, lag)\n",
    "\n",
    "        # fit the model: note that we don't shuffle batches (it would ruin the sequence)\n",
    "        # and that we reset states only after an entire X has been fit, instead of after\n",
    "        # each (size 1) batch, as is the case when stateful=False\n",
    "        model.fit(X, y, epochs=1, batch_size=batch_size, verbose=0, shuffle=False)\n",
    "        model.reset_states()"
   ]
  },
  {
   "cell_type": "code",
   "execution_count": null,
   "metadata": {},
   "outputs": [],
   "source": [
    "def generate_hourly_forecast(num_pred_hours, consumption, model, scaler, lag):\n",
    "    \"\"\" Uses last hour's prediction to generate next for num_pred_hours, \n",
    "        initialized by most recent cold start prediction. Inverts scale of \n",
    "        predictions before return.\n",
    "    \"\"\"\n",
    "    # allocate prediction frame\n",
    "    preds_scaled = np.zeros(num_pred_hours)\n",
    "    \n",
    "    # initial X is last lag values from the cold start\n",
    "    X = scaler.transform(consumption.values.reshape(-1, 1))[-lag:]\n",
    "    \n",
    "    # forecast\n",
    "    for i in range(num_pred_hours):\n",
    "        # predict scaled value for next time step\n",
    "        yhat = model.predict(X.reshape(1, 1, lag), batch_size=1)[0][0]\n",
    "        preds_scaled[i] = yhat\n",
    "        \n",
    "        # update X to be latest data plus prediction\n",
    "        X = pd.Series(X.ravel()).shift(-1).fillna(yhat).values\n",
    "\n",
    "    # revert scale back to original range\n",
    "    hourly_preds = scaler.inverse_transform(preds_scaled.reshape(-1, 1)).ravel()\n",
    "    return hourly_preds"
   ]
  },
  {
   "cell_type": "markdown",
   "metadata": {},
   "source": [
    "### [1]Predicting for submission format"
   ]
  },
  {
   "cell_type": "code",
   "execution_count": null,
   "metadata": {},
   "outputs": [],
   "source": [
    "# copy submission format and fill in values\n",
    "my_submission = sub_data.copy()"
   ]
  },
  {
   "cell_type": "code",
   "execution_count": null,
   "metadata": {},
   "outputs": [],
   "source": [
    "mytest = test_data"
   ]
  },
  {
   "cell_type": "code",
   "execution_count": null,
   "metadata": {},
   "outputs": [],
   "source": [
    "\n",
    "%%time\n",
    "pred_window_to_num_preds = {'hourly': 24, 'daily': 7, 'weekly': 2}\n",
    "pred_window_to_num_pred_hours = {'hourly': 24, 'daily': 7 * 24, 'weekly': 2 * 7 * 24}\n",
    "\n",
    "num_test_series = my_submission.series_id.nunique()\n",
    "\n",
    "model.reset_states()\n",
    "\n",
    "for ser_id, pred_df in tqdm(my_submission.groupby('series_id'), \n",
    "                            total=num_test_series, \n",
    "                            desc=\"Forecasting from Cold Start Data\"):\n",
    "        \n",
    "    # get info about this series' prediction window\n",
    "    pred_window = pred_df.prediction_window.unique()[0]\n",
    "    num_preds = pred_window_to_num_preds[pred_window]\n",
    "    num_pred_hours = pred_window_to_num_pred_hours[pred_window]\n",
    "    \n",
    "    # prepare cold start data\n",
    "    series_data = test_data[test_data.series_id == ser_id].consumption\n",
    "    cold_X, cold_y, scaler = prepare_training_data(series_data, lag)\n",
    "    \n",
    "    # fine tune our lstm model to this site using cold start data    \n",
    "    model.fit(cold_X, cold_y, epochs=1, batch_size=batch_size, verbose=0, shuffle=False)\n",
    "    \n",
    "    # make hourly forecasts for duration of pred window\n",
    "    preds = generate_hourly_forecast(num_pred_hours, series_data, model, scaler, lag)\n",
    "    \n",
    "    # reduce by taking sum over each sub window in pred window\n",
    "    reduced_preds = [pred.sum() for pred in np.split(preds, num_preds)]\n",
    "    \n",
    "    # store result in submission DataFrame\n",
    "    ser_id_mask = my_submission.series_id == ser_id\n",
    "    my_submission.loc[ser_id_mask, 'consumption'] = reduced_preds"
   ]
  },
  {
   "cell_type": "code",
   "execution_count": null,
   "metadata": {},
   "outputs": [],
   "source": [
    "my_submission[my_submission.prediction_window == 'hourly'].consumption.describe()"
   ]
  },
  {
   "cell_type": "code",
   "execution_count": null,
   "metadata": {},
   "outputs": [],
   "source": [
    "my_submission.head(5)"
   ]
  },
  {
   "cell_type": "code",
   "execution_count": null,
   "metadata": {},
   "outputs": [],
   "source": [
    "my_submission.to_csv(\"my_submmission.csv\", index_label='pred_id')"
   ]
  },
  {
   "cell_type": "markdown",
   "metadata": {},
   "source": [
    "### [2]Predicting for test data"
   ]
  },
  {
   "cell_type": "code",
   "execution_count": null,
   "metadata": {},
   "outputs": [],
   "source": [
    "\n",
    "%%time\n",
    "pred_window_to_num_preds = {'hourly': 24, 'daily': 7, 'weekly': 2}\n",
    "pred_window_to_num_pred_hours = {'hourly': 24, 'daily': 7 * 24, 'weekly': 2 * 7 * 24}\n",
    "\n",
    "num_test_series = mytest.series_id.nunique()\n",
    "\n",
    "model.reset_states()\n",
    "\n",
    "for ser_id, pred_df in tqdm(mytest.groupby('series_id'), \n",
    "                            total=num_test_series, \n",
    "                            desc=\"Forecasting from Cold Start Data\"):\n",
    "        \n",
    "    # get info about this series' prediction window\n",
    "    pred_window = pred_df.prediction_window.unique()[0]\n",
    "    num_preds = 1\n",
    "    num_pred_hours = 1\n",
    "    \n",
    "    # prepare cold start data\n",
    "    series_data = test_data[test_data.series_id == ser_id].consumption\n",
    "    cold_X, cold_y, scaler = prepare_training_data(series_data, lag)\n",
    "    \n",
    "    # fine tune our lstm model to this site using cold start data    \n",
    "    model.fit(cold_X, cold_y, epochs=1, batch_size=batch_size, verbose=0, shuffle=False)\n",
    "    \n",
    "    # make hourly forecasts for duration of pred window\n",
    "    preds = generate_hourly_forecast(1, series_data, model, scaler, lag)\n",
    "    \n",
    "    # reduce by taking sum over each sub window in pred window\n",
    "    #reduced_preds = [pred.sum() for pred in np.split(preds, num_preds)]\n",
    "    \n",
    "    # store result in submission DataFrame\n",
    "    ser_id_mask = mytest.series_id == ser_id\n",
    "    mytest.loc[ser_id_mask, 'consumption'] = preds"
   ]
  },
  {
   "cell_type": "code",
   "execution_count": null,
   "metadata": {},
   "outputs": [],
   "source": [
    "mytest.consumption"
   ]
  },
  {
   "cell_type": "markdown",
   "metadata": {},
   "source": [
    "###### Accuracy for test data"
   ]
  },
  {
   "cell_type": "code",
   "execution_count": null,
   "metadata": {},
   "outputs": [],
   "source": [
    "from sklearn.metrics import r2_score\n",
    "r2_score(y1, y0) "
   ]
  },
  {
   "cell_type": "markdown",
   "metadata": {},
   "source": [
    "### [2]Predicting on Train data"
   ]
  },
  {
   "cell_type": "code",
   "execution_count": null,
   "metadata": {},
   "outputs": [],
   "source": [
    "mytrain=train_data.copy()"
   ]
  },
  {
   "cell_type": "code",
   "execution_count": null,
   "metadata": {},
   "outputs": [],
   "source": [
    "## for train\n",
    "#%%time\n",
    "pred_window_to_num_preds = {'hourly': 24, 'daily': 7, 'weekly': 2}\n",
    "pred_window_to_num_pred_hours = {'hourly': 24, 'daily': 7 * 24, 'weekly': 2 * 7 * 24}\n",
    "\n",
    "num_test_series = mytrain.series_id.nunique()\n",
    "\n",
    "model.reset_states()\n",
    "\n",
    "for ser_id, pred_df in tqdm(mytrain.groupby('series_id'), \n",
    "                            total=num_test_series, \n",
    "                            desc=\"Forecasting from Cold Start Data\"):\n",
    "        \n",
    "    # get info about this series' prediction window\n",
    "    #pred_window = pred_df.prediction_window.unique()[0]\n",
    "    num_preds = 1\n",
    "    num_pred_hours = 1\n",
    "    \n",
    "    # prepare cold start data\n",
    "    series_data = train_data[train_data.series_id == ser_id].consumption\n",
    "    cold_X, cold_y, scaler = prepare_training_data(series_data, lag)\n",
    "    \n",
    "    # fine tune our lstm model to this site using cold start data    \n",
    "    model.fit(cold_X, cold_y, epochs=1, batch_size=batch_size, verbose=0, shuffle=False)\n",
    "    \n",
    "    # make hourly forecasts for duration of pred window\n",
    "    preds = generate_hourly_forecast(1, series_data, model, scaler, lag)\n",
    "    \n",
    "    # reduce by taking sum over each sub window in pred window\n",
    "    #reduced_preds = [pred.sum() for pred in np.split(preds, num_preds)]\n",
    "    \n",
    "    # store result in submission DataFrame\n",
    "    ser_id_mask = mytrain.series_id == ser_id\n",
    "    mytrain.loc[ser_id_mask, 'consumption'] = preds"
   ]
  },
  {
   "cell_type": "code",
   "execution_count": null,
   "metadata": {},
   "outputs": [],
   "source": [
    "yy0=mytrain.consumption\n",
    "yy1=train_data.consumption\n",
    "print(yy0)\n",
    "print(yy1)"
   ]
  },
  {
   "cell_type": "markdown",
   "metadata": {},
   "source": [
    "###### Accuracy for Train Data"
   ]
  },
  {
   "cell_type": "code",
   "execution_count": null,
   "metadata": {},
   "outputs": [],
   "source": [
    "from sklearn.metrics import r2_score\n",
    "r2_score(yy1, yy0) "
   ]
  }
 ],
 "metadata": {
  "kernelspec": {
   "display_name": "Python 3",
   "language": "python",
   "name": "python3"
  },
  "language_info": {
   "codemirror_mode": {
    "name": "ipython",
    "version": 3
   },
   "file_extension": ".py",
   "mimetype": "text/x-python",
   "name": "python",
   "nbconvert_exporter": "python",
   "pygments_lexer": "ipython3",
   "version": "3.6.5"
  }
 },
 "nbformat": 4,
 "nbformat_minor": 2
}
